{
 "cells": [
  {
   "cell_type": "code",
   "execution_count": null,
   "metadata": {},
   "outputs": [],
   "source": [
    "# LinearRegression\n",
    "import numpy as np \n",
    "import pandas as pd \n",
    "df=pd.read_csv(\"C:\\Users\\PAVITHRA\\Desktop\\heart.csv\")\n",
    "from sklearn.model_selection import train_test_split\n",
    "from sklearn.linear_model import LinearRegression\n",
    "X=df['sex'].values.reshape(-1,1)\n",
    "y=df['oldpeak'].values.reshape(-1,1)\n",
    "X_train, X_test,y_train,y_test=train_test_split(X,y,test_size=0.2,random_state=0)\n",
    "regressor=LinearRegression()\n",
    "regressor.fit(X_train, y_train)\n",
    "print(regressor.intercept_)\n",
    "print(regressor.coef_)"
   ]
  },
  {
   "cell_type": "code",
   "execution_count": null,
   "metadata": {},
   "outputs": [],
   "source": [
    "#KNeighborsClassifier\n",
    "import numpy as np \n",
    "import pandas as pd \n",
    "df=pd.read_csv(\"C:\\Users\\PAVITHRA\\Desktop\\heart.csv\")\n",
    "from matplotlib import pyplot as plt\n",
    "\n",
    "from sklearn.neighbors import KNeighborsClassifier\n",
    "\n",
    "from sklearn.model_selection import train_test_split\n",
    "X=df[['sex']]\n",
    "y=df[['chol']]\n",
    "X_train, X_test,y_train,y_test=train_test_split(X,y,random_state=1)\n",
    "knn= KNeighborsClassifier(n_neighbors=9, metric='euclidean')\n",
    "knn.fit(X_train, y_train)\n",
    "p1=knn.predict(X_test)\n",
    "p1[0]"
   ]
  },
  {
   "cell_type": "code",
   "execution_count": null,
   "metadata": {},
   "outputs": [],
   "source": [
    "#DecisionTreeClassifier\n",
    "import pandas as pd\n",
    "import numpy as np\n",
    "from sklearn.datasets import load_iris\n",
    "from sklearn.tree import DecisionTreeClassifier\n",
    "from sklearn.model_selection import train_test_split\n",
    "df=pd.read_csv(\"C:\\Users\\PAVITHRA\\Desktop\\heart.csv\")\n",
    "heart.csv\n",
    "data = load_iris()\n",
    "print('Classes to predict: ', data.target_names)\n",
    "X = data.data\n",
    "y = data.target\n",
    "X_train, X_test, y_train, y_test = train_test_split(X, y, random_state = 47, test_size = 0.25)\n",
    "from sklearn.tree import DecisionTreeClassifier\n",
    "clf = DecisionTreeClassifier(criterion = 'entropy')\n",
    "clf.fit(X_train, y_train)\n",
    "y_pred =  clf.predict(X_test)\n",
    "from sklearn.metrics import accuracy_score\n",
    "print('Accuracy Score on train data: ', accuracy_score(y_true=y_train, y_pred=clf.predict(X_train)))\n",
    "print('Accuracy Score on test data: ', accuracy_score(y_true=y_test, y_pred=y_pred))\n"
   ]
  }
 ],
 "metadata": {
  "kernelspec": {
   "display_name": "Python 3",
   "language": "python",
   "name": "python3"
  },
  "language_info": {
   "codemirror_mode": {
    "name": "ipython",
    "version": 3
   },
   "file_extension": ".py",
   "mimetype": "text/x-python",
   "name": "python",
   "nbconvert_exporter": "python",
   "pygments_lexer": "ipython3",
   "version": "3.7.0"
  }
 },
 "nbformat": 4,
 "nbformat_minor": 2
}
